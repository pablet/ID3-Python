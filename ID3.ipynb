{
 "cells": [
  {
   "cell_type": "markdown",
   "metadata": {},
   "source": [
    "### Importar librerias"
   ]
  },
  {
   "cell_type": "code",
   "execution_count": 1,
   "metadata": {},
   "outputs": [],
   "source": [
    "import pandas as pd\n",
    "import queue"
   ]
  },
  {
   "cell_type": "markdown",
   "metadata": {},
   "source": [
    "### Leer dataset"
   ]
  },
  {
   "cell_type": "code",
   "execution_count": 2,
   "metadata": {},
   "outputs": [],
   "source": [
    "data = pd.read_csv(\"Titanic.csv\")"
   ]
  },
  {
   "cell_type": "markdown",
   "metadata": {},
   "source": [
    "### Estructura del árbol"
   ]
  },
  {
   "cell_type": "code",
   "execution_count": 4,
   "metadata": {},
   "outputs": [],
   "source": [
    "class Arbol:\n",
    "    def __init__(self, raiz):\n",
    "        self.hijos = []\n",
    "        self.raiz = raiz\n",
    "\n",
    "\n",
    "def agregarElemento(arbol, nodo, nodoPadre):\n",
    "    subarbol = buscarSubarbol(arbol, nodoPadre)\n",
    "    subarbol.hijos.append(Arbol(nodo))\n",
    "\n",
    "\n",
    "def buscarSubarbol(arbol, nodo):\n",
    "    if arbol.raiz == nodo:\n",
    "        return arbol\n",
    "    for subarbol in arbol.hijos:\n",
    "        arbolBuscado = buscarSubarbol(subarbol, nodo)\n",
    "        if (arbolBuscado != None):\n",
    "            return arbolBuscado\n",
    "    return None  \n",
    "\n",
    "\n",
    "def profundidad(arbol):\n",
    "    if len(arbol.hijos) == 0: \n",
    "        return 1\n",
    "    return 1 + max(map(profundidad,arbol.hijos)) \n",
    "\n",
    "\n",
    "def grado(arbol, num):\n",
    "    num += 1\n",
    "    for hijo in arbol.hijos:\n",
    "        grado(hijo, num)\n",
    "\n",
    "\n",
    "def printArbolProfundidad(arbol, level = 0):\n",
    "    print(\"|\" + \"-\" * level * 20 + \" \" + arbol.raiz)\n",
    "    for hijo in arbol.hijos:\n",
    "        printArbolProfundidad(hijo, level+1)\n",
    "\n",
    "\n",
    "def printArbolAnchura(arbol, cola):\n",
    "    print(arbol.raiz)\n",
    "    if(len(arbol.hijos) > 0):\n",
    "        for hijo in arbol.hijos:\n",
    "            cola.put(hijo)\n",
    "    if(cola.qsize() != 0):\n",
    "        printArbolAnchura(cola.get(), cola)"
   ]
  },
  {
   "cell_type": "code",
   "execution_count": 5,
   "metadata": {},
   "outputs": [
    {
     "ename": "AttributeError",
     "evalue": "'Arbol' object has no attribute 'agregarElemento'",
     "output_type": "error",
     "traceback": [
      "\u001b[1;31m---------------------------------------------------------------------------\u001b[0m",
      "\u001b[1;31mAttributeError\u001b[0m                            Traceback (most recent call last)",
      "\u001b[1;32m<ipython-input-5-80832386cace>\u001b[0m in \u001b[0;36m<module>\u001b[1;34m\u001b[0m\n\u001b[0;32m      9\u001b[0m \u001b[1;33m\u001b[0m\u001b[0m\n\u001b[0;32m     10\u001b[0m \u001b[0marbol\u001b[0m \u001b[1;33m=\u001b[0m \u001b[0mArbol\u001b[0m\u001b[1;33m(\u001b[0m\u001b[0mabuela\u001b[0m\u001b[1;33m)\u001b[0m\u001b[1;33m\u001b[0m\u001b[1;33m\u001b[0m\u001b[0m\n\u001b[1;32m---> 11\u001b[1;33m \u001b[0marbol\u001b[0m\u001b[1;33m.\u001b[0m\u001b[0magregarElemento\u001b[0m\u001b[1;33m(\u001b[0m\u001b[0mpatty\u001b[0m\u001b[1;33m,\u001b[0m \u001b[0mabuela\u001b[0m\u001b[1;33m)\u001b[0m\u001b[1;33m\u001b[0m\u001b[1;33m\u001b[0m\u001b[0m\n\u001b[0m\u001b[0;32m     12\u001b[0m \u001b[1;31m#agregarElemento(arbol, selma, abuela)\u001b[0m\u001b[1;33m\u001b[0m\u001b[1;33m\u001b[0m\u001b[1;33m\u001b[0m\u001b[0m\n\u001b[0;32m     13\u001b[0m \u001b[1;31m#agregarElemento(arbol, ling, selma)\u001b[0m\u001b[1;33m\u001b[0m\u001b[1;33m\u001b[0m\u001b[1;33m\u001b[0m\u001b[0m\n",
      "\u001b[1;31mAttributeError\u001b[0m: 'Arbol' object has no attribute 'agregarElemento'"
     ]
    }
   ],
   "source": [
    "abuela = \"Jacqueline Gurney\"\n",
    "marge = \"Marge Bouvier\"\n",
    "patty = \"Patty Bouvier\"\n",
    "selma = \"Selma Bouvier\"\n",
    "bart = \"Bart Simpson\"\n",
    "lisa = \"Lisa Simpson\"\n",
    "maggie = \"Maggie Simpson\"\n",
    "ling = \"Ling Bouvier\"\n",
    "\n",
    "arbol = Arbol(abuela)\n",
    "#agregarElemento(arbol, patty, abuela)\n",
    "#agregarElemento(arbol, selma, abuela)\n",
    "#agregarElemento(arbol, ling, selma)\n",
    "#agregarElemento(arbol, marge, abuela)\n",
    "#agregarElemento(arbol, bart, marge)\n",
    "#agregarElemento(arbol, lisa, marge)\n",
    "#agregarElemento(arbol, maggie, marge)\n",
    "\n",
    "#print(profundidad(arbol))\n",
    "printArbolProfundidad(arbol)\n",
    "#cola = queue.Queue()\n",
    "#printArbolAnchura(arbol, cola)\n"
   ]
  }
 ],
 "metadata": {
  "kernelspec": {
   "display_name": "Python 3",
   "language": "python",
   "name": "python3"
  },
  "language_info": {
   "codemirror_mode": {
    "name": "ipython",
    "version": 3
   },
   "file_extension": ".py",
   "mimetype": "text/x-python",
   "name": "python",
   "nbconvert_exporter": "python",
   "pygments_lexer": "ipython3",
   "version": "3.7.3"
  }
 },
 "nbformat": 4,
 "nbformat_minor": 2
}
