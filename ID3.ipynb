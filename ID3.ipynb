{
 "cells": [
  {
   "cell_type": "markdown",
   "metadata": {},
   "source": [
    "### Importar librerias"
   ]
  },
  {
   "cell_type": "code",
   "execution_count": 1,
   "metadata": {},
   "outputs": [],
   "source": [
    "import pandas as pd\n",
    "import queue\n",
    "import numpy as np"
   ]
  },
  {
   "cell_type": "markdown",
   "metadata": {},
   "source": [
    "### Leer dataset"
   ]
  },
  {
   "cell_type": "code",
   "execution_count": 2,
   "metadata": {},
   "outputs": [],
   "source": [
    "data = pd.read_csv(\"Titanic.csv\")\n",
    "#data"
   ]
  },
  {
   "cell_type": "code",
   "execution_count": 3,
   "metadata": {},
   "outputs": [
    {
     "data": {
      "text/html": [
       "<div>\n",
       "<style scoped>\n",
       "    .dataframe tbody tr th:only-of-type {\n",
       "        vertical-align: middle;\n",
       "    }\n",
       "\n",
       "    .dataframe tbody tr th {\n",
       "        vertical-align: top;\n",
       "    }\n",
       "\n",
       "    .dataframe thead th {\n",
       "        text-align: right;\n",
       "    }\n",
       "</style>\n",
       "<table border=\"1\" class=\"dataframe\">\n",
       "  <thead>\n",
       "    <tr style=\"text-align: right;\">\n",
       "      <th></th>\n",
       "      <th>Outlook</th>\n",
       "      <th>Temp</th>\n",
       "      <th>Humidity</th>\n",
       "      <th>Windy</th>\n",
       "      <th>Play_Golf</th>\n",
       "    </tr>\n",
       "  </thead>\n",
       "  <tbody>\n",
       "    <tr>\n",
       "      <th>0</th>\n",
       "      <td>Rainy</td>\n",
       "      <td>Hot</td>\n",
       "      <td>High</td>\n",
       "      <td>False</td>\n",
       "      <td>No</td>\n",
       "    </tr>\n",
       "    <tr>\n",
       "      <th>1</th>\n",
       "      <td>Rainy</td>\n",
       "      <td>Hot</td>\n",
       "      <td>High</td>\n",
       "      <td>True</td>\n",
       "      <td>No</td>\n",
       "    </tr>\n",
       "    <tr>\n",
       "      <th>2</th>\n",
       "      <td>Overcast</td>\n",
       "      <td>Hot</td>\n",
       "      <td>High</td>\n",
       "      <td>False</td>\n",
       "      <td>Yes</td>\n",
       "    </tr>\n",
       "    <tr>\n",
       "      <th>3</th>\n",
       "      <td>Sunny</td>\n",
       "      <td>Mild</td>\n",
       "      <td>High</td>\n",
       "      <td>False</td>\n",
       "      <td>Yes</td>\n",
       "    </tr>\n",
       "    <tr>\n",
       "      <th>4</th>\n",
       "      <td>Sunny</td>\n",
       "      <td>Cool</td>\n",
       "      <td>Normal</td>\n",
       "      <td>False</td>\n",
       "      <td>Yes</td>\n",
       "    </tr>\n",
       "    <tr>\n",
       "      <th>5</th>\n",
       "      <td>Sunny</td>\n",
       "      <td>Cool</td>\n",
       "      <td>Normal</td>\n",
       "      <td>True</td>\n",
       "      <td>No</td>\n",
       "    </tr>\n",
       "    <tr>\n",
       "      <th>6</th>\n",
       "      <td>Overcast</td>\n",
       "      <td>Cool</td>\n",
       "      <td>Normal</td>\n",
       "      <td>True</td>\n",
       "      <td>Yes</td>\n",
       "    </tr>\n",
       "    <tr>\n",
       "      <th>7</th>\n",
       "      <td>Rainy</td>\n",
       "      <td>Mild</td>\n",
       "      <td>High</td>\n",
       "      <td>False</td>\n",
       "      <td>No</td>\n",
       "    </tr>\n",
       "    <tr>\n",
       "      <th>8</th>\n",
       "      <td>Rainy</td>\n",
       "      <td>Cool</td>\n",
       "      <td>Normal</td>\n",
       "      <td>False</td>\n",
       "      <td>Yes</td>\n",
       "    </tr>\n",
       "    <tr>\n",
       "      <th>9</th>\n",
       "      <td>Sunny</td>\n",
       "      <td>Mild</td>\n",
       "      <td>Normal</td>\n",
       "      <td>False</td>\n",
       "      <td>Yes</td>\n",
       "    </tr>\n",
       "    <tr>\n",
       "      <th>10</th>\n",
       "      <td>Rainy</td>\n",
       "      <td>Mild</td>\n",
       "      <td>Normal</td>\n",
       "      <td>True</td>\n",
       "      <td>Yes</td>\n",
       "    </tr>\n",
       "    <tr>\n",
       "      <th>11</th>\n",
       "      <td>Overcast</td>\n",
       "      <td>Mild</td>\n",
       "      <td>High</td>\n",
       "      <td>True</td>\n",
       "      <td>Yes</td>\n",
       "    </tr>\n",
       "    <tr>\n",
       "      <th>12</th>\n",
       "      <td>Overcast</td>\n",
       "      <td>Hot</td>\n",
       "      <td>Normal</td>\n",
       "      <td>False</td>\n",
       "      <td>Yes</td>\n",
       "    </tr>\n",
       "    <tr>\n",
       "      <th>13</th>\n",
       "      <td>Sunny</td>\n",
       "      <td>Mild</td>\n",
       "      <td>High</td>\n",
       "      <td>True</td>\n",
       "      <td>No</td>\n",
       "    </tr>\n",
       "  </tbody>\n",
       "</table>\n",
       "</div>"
      ],
      "text/plain": [
       "     Outlook  Temp Humidity  Windy Play_Golf\n",
       "0      Rainy   Hot     High  False        No\n",
       "1      Rainy   Hot     High   True        No\n",
       "2   Overcast   Hot     High  False       Yes\n",
       "3      Sunny  Mild     High  False       Yes\n",
       "4      Sunny  Cool   Normal  False       Yes\n",
       "5      Sunny  Cool   Normal   True        No\n",
       "6   Overcast  Cool   Normal   True       Yes\n",
       "7      Rainy  Mild     High  False        No\n",
       "8      Rainy  Cool   Normal  False       Yes\n",
       "9      Sunny  Mild   Normal  False       Yes\n",
       "10     Rainy  Mild   Normal   True       Yes\n",
       "11  Overcast  Mild     High   True       Yes\n",
       "12  Overcast   Hot   Normal  False       Yes\n",
       "13     Sunny  Mild     High   True        No"
      ]
     },
     "execution_count": 3,
     "metadata": {},
     "output_type": "execute_result"
    }
   ],
   "source": [
    "datos = [['Rainy','Hot','High','False','No'], ['Rainy', 'Hot','High','True','No'], ['Overcast', 'Hot','High','False','Yes'],\n",
    "            ['Sunny', 'Mild','High','False','Yes'], ['Sunny', 'Cool', 'Normal', 'False', 'Yes'],\n",
    "               ['Sunny', 'Cool', 'Normal', 'True', 'No'], ['Overcast', 'Cool', 'Normal', 'True', 'Yes'],\n",
    "                 ['Rainy', 'Mild', 'High', 'False', 'No'], ['Rainy', 'Cool', 'Normal', 'False', 'Yes'],\n",
    "                     ['Sunny', 'Mild', 'Normal', 'False', 'Yes'], ['Rainy', 'Mild', 'Normal', 'True', 'Yes'],\n",
    "                         ['Overcast', 'Mild', 'High', 'True', 'Yes'], ['Overcast', 'Hot', 'Normal', 'False', 'Yes'],\n",
    "                             ['Sunny', 'Mild', 'High', 'True', 'No']]\n",
    "\n",
    "play_golf = pd.DataFrame(datos, columns = ['Outlook', 'Temp', 'Humidity', 'Windy', 'Play_Golf'])\n",
    "play_golf\n"
   ]
  },
  {
   "cell_type": "markdown",
   "metadata": {},
   "source": [
    "### Estructura del árbol"
   ]
  },
  {
   "cell_type": "code",
   "execution_count": 63,
   "metadata": {},
   "outputs": [],
   "source": [
    "class Arbol:\n",
    "    def __init__(self, raiz):\n",
    "        self.hijos = []\n",
    "        self.atributos = []\n",
    "        self.raiz = raiz\n",
    "\n",
    "    def agregarElemento(self, nodo, nodoPadre, atributo = \"\"):\n",
    "        subarbol = self.buscarSubarbol(nodoPadre)\n",
    "        subarbol.hijos.append(Arbol(nodo))\n",
    "        subarbol.atributos.append(atributo)\n",
    "    \n",
    "    \n",
    "    def buscarSubarbol(self, nodo):\n",
    "        if self.raiz == nodo:\n",
    "            return self\n",
    "        for subarbol in self.hijos[::-1]:\n",
    "            arbolBuscado = subarbol.buscarSubarbol(nodo)\n",
    "            if (arbolBuscado != None):\n",
    "                return arbolBuscado\n",
    "        return None  \n",
    "\n",
    "    \n",
    "    def profundidad(self):\n",
    "        if len(self.hijos) == 0: \n",
    "            return 1\n",
    "        else:\n",
    "            maxprof = 0;\n",
    "            for subarbol in self.hijos:\n",
    "                prof = subarbol.profundidad()\n",
    "                if prof > maxprof:\n",
    "                    maxprof = prof\n",
    "            return maxprof + 1\n",
    "    \n",
    "    \n",
    "    def grado(self, num):\n",
    "        num += 1\n",
    "        for hijo in self.hijos:\n",
    "            grado(hijo, num)\n",
    "    \n",
    "    \n",
    "    def printArbolProfundidad(self, atributo = \"\", level = 0):\n",
    "        print(\"|\" + \"-\" * level * 20 + \" \" + atributo + \" --> \" + self.raiz)\n",
    "        for hijo in self.hijos:\n",
    "            hijo.printArbolProfundidad(self.atributos[self.hijos.index(hijo)], level+1)\n",
    "    \n",
    "    \n",
    "    def printArbolAnchura(self, cola = queue.Queue()):\n",
    "        print(self.raiz)\n",
    "        if(len(self.hijos) > 0):\n",
    "            for hijo in self.hijos:\n",
    "                cola.put(hijo)\n",
    "        if(cola.qsize() != 0):\n",
    "            cola.get().printArbolAnchura(cola)"
   ]
  },
  {
   "cell_type": "code",
   "execution_count": 58,
   "metadata": {},
   "outputs": [
    {
     "name": "stdout",
     "output_type": "stream",
     "text": [
      "3\n",
      "| Jacqueline Gurney -->\n",
      "|-------------------- Patty Bouvier -->\n",
      "|-------------------- Selma Bouvier -->\n",
      "|---------------------------------------- Ling Bouvier -->\n",
      "|-------------------- Marge Bouvier -->\n",
      "|---------------------------------------- Bart Simpson -->\n",
      "|---------------------------------------- Lisa Simpson -->\n",
      "|---------------------------------------- Maggie Simpson -->\n",
      "Jacqueline Gurney\n",
      "Patty Bouvier\n",
      "Selma Bouvier\n",
      "Marge Bouvier\n",
      "Ling Bouvier\n",
      "Bart Simpson\n",
      "Lisa Simpson\n",
      "Maggie Simpson\n"
     ]
    }
   ],
   "source": [
    "abuela = \"Jacqueline Gurney\"\n",
    "marge = \"Marge Bouvier\"\n",
    "patty = \"Patty Bouvier\"\n",
    "selma = \"Selma Bouvier\"\n",
    "bart = \"Bart Simpson\"\n",
    "lisa = \"Lisa Simpson\"\n",
    "maggie = \"Maggie Simpson\"\n",
    "ling = \"Ling Bouvier\"\n",
    "\n",
    "arbol = Arbol(abuela)\n",
    "arbol.agregarElemento(patty, abuela)\n",
    "arbol.agregarElemento(selma, abuela)\n",
    "arbol.agregarElemento(ling, selma)\n",
    "arbol.agregarElemento(marge, abuela)\n",
    "arbol.agregarElemento(bart, marge)\n",
    "arbol.agregarElemento(lisa, marge)\n",
    "arbol.agregarElemento(maggie, marge)\n",
    "\n",
    "print(arbol.profundidad())\n",
    "arbol.printArbolProfundidad()\n",
    "arbol.printArbolAnchura()\n"
   ]
  },
  {
   "cell_type": "markdown",
   "metadata": {},
   "source": [
    "### ID3"
   ]
  },
  {
   "cell_type": "code",
   "execution_count": 61,
   "metadata": {
    "scrolled": false
   },
   "outputs": [
    {
     "data": {
      "text/plain": [
       "[0.24674981977443933,\n",
       " 0.02922256565895487,\n",
       " 0.15183550136234159,\n",
       " 0.04812703040826949]"
      ]
     },
     "execution_count": 61,
     "metadata": {},
     "output_type": "execute_result"
    }
   ],
   "source": [
    "def id3(df, columna, arbol = None):\n",
    "    ncol = len(df.columns)        ## Numero de atributos\n",
    "    ganancias = []                ## Aqui guardo las ganancias\n",
    "    \n",
    "    col_class = df[columna]     ## Esta es la columna a predecir\n",
    "    etiqueta_class = col_class.value_counts();   ## Numero de elementos de cada tipo en la columna a predecir\n",
    "    entropy_class = np.array(etiqueta_class) / len(col_class.index)  \n",
    "    ####### Añadido #######\n",
    "    entropy_class = entropy_class * np.log2(entropy_class)\n",
    "    #######################\n",
    "    entropy_class = -np.sum(entropy_class)  ## entropia de la columna a predecir\n",
    "\n",
    "    \n",
    "    for i in range(ncol):   ## Por cada Atributo\n",
    "        \n",
    "        col = df.iloc[:,i]  ## Cojo la columna\n",
    "        if col.name != columna: ## Si no es la que queremos predecir\n",
    "            semicalculo = []    ## No hagas mucho caso a esto por ahora\n",
    "            numero_etiquetas = df.iloc[:,i].value_counts()  ## Esto es el numero de elementos de cada tipo en la columna seleccionada\n",
    "            etiquetas = numero_etiquetas.index ## Esto son los distintos elementos, los nombres\n",
    "            #class_values = data[columna].dropna().unique() ## Nombre de los elementos de la columna a predecir\n",
    "            class_values = df[columna].dropna().unique()\n",
    "\n",
    "            for j in etiquetas:  ## Por cada elemento distinto en la columna\n",
    "                number = []  ## Variable auxiliar\n",
    "                for z in class_values:  ## Por cada elemento distinto en la columna a predecir\n",
    "                    #number.append(len(data[(data[[col.name]] == j) & (data[[columna]] == z) ].index)) ## Los cuento\n",
    "                    #number.append(len(df[(df[[col.name]] == j) & (df[[columna]] == z) ].index))\n",
    "                    number.append(sum((df[col.name] == j) & (df[columna] == z)))\n",
    "                \n",
    "                number = np.array(number) / numero_etiquetas[j]  \n",
    "                number_log2 = [0 if x==0 else np.log2(x) for x in number] ##Para evitar que se calcule log2(0) (introduce na's)\n",
    "                #number = number * np.log2(number)\n",
    "                number = number * number_log2\n",
    "                entropia = -np.sum(number)  ## Entropia\n",
    "                semicalculo.append(numero_etiquetas[j] / len(col_class.index) * entropia) ## Aqui guardo un precalculo de la ganancia\n",
    "            \n",
    "            ganancias.append(entropy_class - np.sum(semicalculo))  ## ganancia\n",
    "            \n",
    "    return ganancias\n",
    "   \n",
    "#print(data)\n",
    "#id3(data.iloc[1:5], 'Survived')\n",
    "id3(play_golf, 'Play_Golf')"
   ]
  },
  {
   "cell_type": "markdown",
   "metadata": {},
   "source": [
    "### Entrenamiento"
   ]
  },
  {
   "cell_type": "code",
   "execution_count": 92,
   "metadata": {
    "scrolled": false
   },
   "outputs": [
    {
     "name": "stdout",
     "output_type": "stream",
     "text": [
      "|  --> \n",
      "|--------------------  --> Outlook\n",
      "|---------------------------------------- Sunny --> Windy\n",
      "|------------------------------------------------------------ False --> Yes\n",
      "|------------------------------------------------------------ True --> No\n",
      "|---------------------------------------- Rainy --> Humidity\n",
      "|------------------------------------------------------------ High --> No\n",
      "|------------------------------------------------------------ Normal --> Yes\n",
      "|---------------------------------------- Overcast --> Yes\n"
     ]
    }
   ],
   "source": [
    "def aprendizaje(df, columna, arbol = None, iteracion = 1, padre = \"\", atributo = \"\"):\n",
    "\n",
    "    if(len(df[columna].value_counts()) > 1 and len(df.columns) > 1): ## Si hay más de una clase a predecir y el df tiene más de una columna\n",
    "        ganancias = id3(df, columna, arbol)  ## Obtener las ganancias del dataframe pasado\n",
    "        columna_ganadora = df.columns[np.argmax(ganancias)] ## Seleccionar la columna del df con más importancia\n",
    "\n",
    "        arbol.agregarElemento(columna_ganadora, padre, atributo) ## Añadir esa columna al arbol\n",
    "\n",
    "        new_df = df.drop(columna_ganadora, axis = 1) ## Obtener el nuevo df eliminando la columna ganadora\n",
    "\n",
    "        numero_etiquetas = df.loc[:,columna_ganadora].value_counts() ## Contar las diferentes etiquetas de la columna ganadora\n",
    "\n",
    "        etiquetas = numero_etiquetas.index ## Obtener una lista con las diferentes etiquetas de la columna ganadora\n",
    "\n",
    "        for i in etiquetas: ## Iteramos por las etiquetas de la columna ganadora\n",
    "            indices_delete = (df[columna_ganadora] == i).tolist() ## Obtener los indices de las filas donde se encuentra la etiqueta i\n",
    "            new_new_df = new_df.iloc[indices_delete] ## Obtener el nuevo df se´gun los índices que se acaban de obtener\n",
    "            \n",
    "            aprendizaje(new_new_df, columna, arbol, iteracion+1, padre = columna_ganadora, atributo = i) ## Recursivamente llamar a aprendizaje para construir el arbol completo\n",
    "\n",
    "    else: ## Si solo queda una clase para predecir o no hay más columnas\n",
    "        arbol.agregarElemento(df.iloc[0][columna], padre, atributo) ## Agregar la predicción de su rama\n",
    "\n",
    "decision_tree = Arbol(\"\")\n",
    "aprendizaje(play_golf, 'Play_Golf', arbol = decision_tree, iteracion = 1)\n",
    "decision_tree.printArbolProfundidad()"
   ]
  },
  {
   "cell_type": "markdown",
   "metadata": {},
   "source": [
    "### Predicción"
   ]
  },
  {
   "cell_type": "code",
   "execution_count": null,
   "metadata": {},
   "outputs": [],
   "source": [
    "def prediction(arbol, datos):\n",
    "    \n",
    "    "
   ]
  }
 ],
 "metadata": {
  "kernelspec": {
   "display_name": "Python 3",
   "language": "python",
   "name": "python3"
  },
  "language_info": {
   "codemirror_mode": {
    "name": "ipython",
    "version": 3
   },
   "file_extension": ".py",
   "mimetype": "text/x-python",
   "name": "python",
   "nbconvert_exporter": "python",
   "pygments_lexer": "ipython3",
   "version": "3.7.3"
  }
 },
 "nbformat": 4,
 "nbformat_minor": 2
}
